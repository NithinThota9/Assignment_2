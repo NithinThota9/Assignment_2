{
  "nbformat": 4,
  "nbformat_minor": 0,
  "metadata": {
    "colab": {
      "provenance": []
    },
    "kernelspec": {
      "name": "python3",
      "display_name": "Python 3"
    },
    "language_info": {
      "name": "python"
    }
  },
  "cells": [
    {
      "cell_type": "code",
      "execution_count": null,
      "metadata": {
        "id": "mCdrYgWGiolZ"
      },
      "outputs": [],
      "source": [
        "#Nithin Thota\n",
        "#700764916"
      ]
    },
    {
      "cell_type": "code",
      "source": [
        "class Employee:\n",
        "    numberOfEmployees = 0\n",
        "\n",
        "    def __init__(self, name, family, salary, department):\n",
        "        self.name = name\n",
        "        self.family = family\n",
        "        self.salary = salary\n",
        "        self.department = department\n",
        "        Employee.numberOfEmployees += 1\n",
        "\n",
        "\n",
        "    def averageSalary(employee_list):\n",
        "        totalSalary = sum(employee.salary for employee in employee_list)\n",
        "        return totalSalary / len(employee_list)\n",
        "\n",
        "\n",
        "class FulltimeEmployee(Employee):\n",
        "    def __init__(self, name, family, salary, department):\n",
        "        super().__init__(name, family, salary, department)\n",
        "\n",
        "\n",
        "employee1 = Employee(\"Nithin\", \"Thota\", 90000, \"Manager\")\n",
        "employee2 = Employee(\"Srinivas\", \"Thota\", 80000, \"Finance\")\n",
        "employee3=  Employee(\"Nikhil\",     \"koti\",    70000, \"Digital Marketing\")\n",
        "\n",
        "fullTimeEmployee1 = FulltimeEmployee(\"pavan\", \"kumar\",25000, \"HR\")\n",
        "fullTimeEmployee2 = FulltimeEmployee(\"Moksha\", \"panala\", 35000, \"Lead\")\n",
        "\n",
        "employees = [employee1, employee2, fullTimeEmployee1, fullTimeEmployee2]\n",
        "\n",
        "avgSalary = Employee.averageSalary(employees)\n",
        "print(\"Average Salary For All the Full Time And Employees :\", avgSalary)\n",
        "print(\"Total Number of full time and Employees:\", Employee.numberOfEmployees)"
      ],
      "metadata": {
        "colab": {
          "base_uri": "https://localhost:8080/"
        },
        "id": "-64XEZQeiwKp",
        "outputId": "ab867364-f3ca-434e-97fd-73aaecde59e6"
      },
      "execution_count": 2,
      "outputs": [
        {
          "output_type": "stream",
          "name": "stdout",
          "text": [
            "Average Salary For All the Full Time And Employees : 57500.0\n",
            "Total Number of full time and Employees: 5\n"
          ]
        }
      ]
    },
    {
      "cell_type": "code",
      "source": [
        "import numpy as np\n",
        "randomVector = np.random.uniform(1, 20, 20)\n",
        "reshapedArray = randomVector.reshape(4, 5)\n",
        "reshapedArray[np.arange(reshapedArray.shape[0]), reshapedArray.argmax(axis=1)] = 0\n",
        "print(reshapedArray)\n"
      ],
      "metadata": {
        "colab": {
          "base_uri": "https://localhost:8080/"
        },
        "id": "I5P8jtYl3D2z",
        "outputId": "db5bc607-3f44-4fb5-f099-eb0fe8443b23"
      },
      "execution_count": 3,
      "outputs": [
        {
          "output_type": "stream",
          "name": "stdout",
          "text": [
            "[[11.08277065  6.18783098  2.77040365 10.51294246  0.        ]\n",
            " [ 5.6269184  10.00322096  0.          6.82182726  9.71143368]\n",
            " [ 0.          7.4737138   1.96202624  7.89112231 11.50135024]\n",
            " [11.80891135  0.         19.90806451  3.44846593 16.61160375]]\n"
          ]
        }
      ]
    }
  ]
}